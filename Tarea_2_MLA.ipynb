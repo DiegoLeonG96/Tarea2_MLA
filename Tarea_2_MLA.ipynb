{
  "nbformat": 4,
  "nbformat_minor": 0,
  "metadata": {
    "colab": {
      "provenance": [],
      "gpuType": "T4",
      "include_colab_link": true
    },
    "kernelspec": {
      "name": "python3",
      "display_name": "Python 3"
    },
    "language_info": {
      "name": "python"
    },
    "accelerator": "GPU"
  },
  "cells": [
    {
      "cell_type": "markdown",
      "metadata": {
        "id": "view-in-github",
        "colab_type": "text"
      },
      "source": [
        "<a href=\"https://colab.research.google.com/github/DiegoLeonG96/Tarea2_MLA/blob/main/Tarea_2_MLA.ipynb\" target=\"_parent\"><img src=\"https://colab.research.google.com/assets/colab-badge.svg\" alt=\"Open In Colab\"/></a>"
      ]
    },
    {
      "cell_type": "markdown",
      "source": [
        "<div>\n",
        "<img src=\"https://i.ibb.co/v3CvVz9/udd-short.png\" width=\"150\"/>\n",
        "    <br>\n",
        "    <strong>Universidad del Desarrollo</strong><br>\n",
        "    <em>Profesor: Tomás Fontecilla </em><br>\n",
        "    <em>Curso: Machine Learning Avanzado </em><br>\n",
        "\n",
        "</div>\n",
        "\n",
        "\n",
        "# Tarea 2: Red Neuronal Convolucional\n",
        "**Integrantes**:\n",
        "- Kurt Castro\n",
        "- Diego León\n",
        "- Cristian Pizarro"
      ],
      "metadata": {
        "id": "J0UPha4ZIXkh"
      }
    },
    {
      "cell_type": "markdown",
      "source": [
        "## 1. Introducción"
      ],
      "metadata": {
        "id": "79p1_BA1I6MB"
      }
    },
    {
      "cell_type": "markdown",
      "source": [
        "## 2. Objetivo"
      ],
      "metadata": {
        "id": "Cp_UZCtLI-LQ"
      }
    },
    {
      "cell_type": "markdown",
      "source": [
        "## 3. Metodología"
      ],
      "metadata": {
        "id": "fz3AhpvdJBiU"
      }
    },
    {
      "cell_type": "markdown",
      "source": [
        "## 4.  Carga y Preprocesamiento de Datos"
      ],
      "metadata": {
        "id": "YAnZ5pEtJHIY"
      }
    },
    {
      "cell_type": "code",
      "execution_count": 1,
      "metadata": {
        "id": "mIFxV-IbFuTG"
      },
      "outputs": [],
      "source": [
        "import tensorflow as tf\n",
        "from tensorflow import keras\n",
        "import numpy as np\n",
        "from keras import models, layers, optimizers, regularizers\n",
        "from tensorflow.keras.layers import Dense, Flatten, Conv2D, MaxPooling2D, BatchNormalization\n",
        "from keras.models import Sequential\n",
        "from keras.optimizers import Adam\n",
        "from keras.losses import binary_crossentropy\n",
        "from tensorflow.keras.preprocessing.image import ImageDataGenerator\n",
        "import matplotlib.pyplot as plt\n",
        "import random\n",
        "import kagglehub\n",
        "# Establecer la semilla para Python\n",
        "random.seed(42)\n",
        "\n",
        "# Establecer la semilla para NumPy\n",
        "np.random.seed(42)\n",
        "\n",
        "# Establecer la semilla para TensorFlow\n",
        "tf.random.set_seed(42)"
      ]
    },
    {
      "cell_type": "markdown",
      "source": [
        "Activar GPU en \"Entorno de Ejecución\". No lo olviden o estarán horas entrenando!"
      ],
      "metadata": {
        "id": "O1Xm607pP8nT"
      }
    },
    {
      "cell_type": "code",
      "source": [
        "# Verifica las GPUs disponibles\n",
        "gpus = tf.config.list_physical_devices('GPU')\n",
        "if gpus:\n",
        "    print(f\"Se encontró GPU: {gpus}\")\n",
        "else:\n",
        "    print(\"No se encontró GPU. Asegúrate de haber activado el entorno con GPU en Colab.\")"
      ],
      "metadata": {
        "colab": {
          "base_uri": "https://localhost:8080/"
        },
        "id": "rHQ0K-G1OiTG",
        "outputId": "2b3a46f8-ae74-40a9-a081-19b0d81feaf5"
      },
      "execution_count": 2,
      "outputs": [
        {
          "output_type": "stream",
          "name": "stdout",
          "text": [
            "Se encontró GPU: [PhysicalDevice(name='/physical_device:GPU:0', device_type='GPU')]\n"
          ]
        }
      ]
    },
    {
      "cell_type": "code",
      "source": [
        "# Download latest version\n",
        "path = kagglehub.dataset_download(\"samuelcortinhas/muffin-vs-chihuahua-image-classification\")\n",
        "\n",
        "print(\"Path to dataset files:\", path)"
      ],
      "metadata": {
        "colab": {
          "base_uri": "https://localhost:8080/"
        },
        "id": "sH3_xtJhHyYC",
        "outputId": "a66a3bbd-cd97-4dfc-ccae-14c7cdb31c2f"
      },
      "execution_count": 3,
      "outputs": [
        {
          "output_type": "stream",
          "name": "stdout",
          "text": [
            "Downloading from https://www.kaggle.com/api/v1/datasets/download/samuelcortinhas/muffin-vs-chihuahua-image-classification?dataset_version_number=2...\n"
          ]
        },
        {
          "output_type": "stream",
          "name": "stderr",
          "text": [
            "100%|██████████| 474M/474M [00:24<00:00, 20.2MB/s]"
          ]
        },
        {
          "output_type": "stream",
          "name": "stdout",
          "text": [
            "Extracting files...\n"
          ]
        },
        {
          "output_type": "stream",
          "name": "stderr",
          "text": [
            "\n"
          ]
        },
        {
          "output_type": "stream",
          "name": "stdout",
          "text": [
            "Path to dataset files: /root/.cache/kagglehub/datasets/samuelcortinhas/muffin-vs-chihuahua-image-classification/versions/2\n"
          ]
        }
      ]
    },
    {
      "cell_type": "code",
      "source": [
        "base_path = \"/root/.cache/kagglehub/datasets/samuelcortinhas/muffin-vs-chihuahua-image-classification/versions/2\""
      ],
      "metadata": {
        "id": "lVi6MTlxILEb"
      },
      "execution_count": 4,
      "outputs": []
    },
    {
      "cell_type": "code",
      "source": [
        "#image generator\n",
        "data_generator = ImageDataGenerator(rescale=1./255,\n",
        "                                    vertical_flip=True,\n",
        "                                    horizontal_flip=True)\n",
        "\n",
        "# train y test\n",
        "train_dir = f'{base_path}/train'\n",
        "test_dir = f'{base_path}/test'\n",
        "\n",
        "batch_size = 16\n",
        "num_classes = 2\n",
        "\n",
        "\n",
        "# generators\n",
        "image_size = (150, 150)\n",
        "input_shape = (150, 150, 3)\n",
        "\n",
        "# Cargar datos directamente\n",
        "X_train_ds = tf.keras.utils.image_dataset_from_directory(\n",
        "    train_dir,\n",
        "    labels='inferred',\n",
        "    label_mode='binary',\n",
        "    image_size=image_size,\n",
        "    batch_size=batch_size\n",
        ")\n",
        "\n",
        "X_test_ds = tf.keras.utils.image_dataset_from_directory(\n",
        "    test_dir,\n",
        "    labels='inferred',\n",
        "    label_mode='binary',\n",
        "    image_size=image_size,\n",
        "    batch_size=batch_size\n",
        ")\n",
        "\n",
        "# Convertir a tensores numpy si es necesario\n",
        "X_train, y_train = [], []\n",
        "for images, labels in X_train_ds:\n",
        "    X_train.append(images.numpy())\n",
        "    y_train.append(labels.numpy())\n",
        "\n",
        "X_test, y_test = [], []\n",
        "for images, labels in X_test_ds:\n",
        "    X_test.append(images.numpy())\n",
        "    y_test.append(labels.numpy())\n",
        "\n",
        "# Combinar los datos en arreglos numpy\n",
        "X_train = np.concatenate(X_train)\n",
        "y_train = np.concatenate(y_train).ravel()\n",
        "X_test = np.concatenate(X_test)\n",
        "y_test = np.concatenate(y_test).ravel()\n",
        "\n",
        "print(f\"X_train shape: {X_train.shape}, y_train shape: {y_train.shape}\")\n",
        "print(f\"X_test shape: {X_test.shape}, y_test shape: {y_test.shape}\")\n"
      ],
      "metadata": {
        "colab": {
          "base_uri": "https://localhost:8080/"
        },
        "id": "OLFyPi_0GJYl",
        "outputId": "c634ac79-3972-494c-80cc-6ce5aa453926"
      },
      "execution_count": 5,
      "outputs": [
        {
          "output_type": "stream",
          "name": "stdout",
          "text": [
            "Found 4733 files belonging to 2 classes.\n",
            "Found 1184 files belonging to 2 classes.\n",
            "X_train shape: (4733, 150, 150, 3), y_train shape: (4733,)\n",
            "X_test shape: (1184, 150, 150, 3), y_test shape: (1184,)\n"
          ]
        }
      ]
    },
    {
      "cell_type": "markdown",
      "source": [
        "## 5. Aplicación de Modelos"
      ],
      "metadata": {
        "id": "y-zFtQ2GJSM4"
      }
    },
    {
      "cell_type": "markdown",
      "source": [
        "## MLP (Multilayer Perceptron)"
      ],
      "metadata": {
        "id": "npkV0YGUR2Yp"
      }
    },
    {
      "cell_type": "code",
      "source": [
        "# Dimensiones originales de las imágenes\n",
        "num_samples, height, width, channels = X_train.shape\n",
        "\n",
        "# Aplanar las imágenes\n",
        "X_train_flattened = X_train.reshape(num_samples, height * width * channels)\n",
        "\n",
        "# Si tienes un conjunto de prueba\n",
        "X_test_flattened = X_test.reshape(X_test.shape[0], X_test.shape[1] * X_test.shape[2] * X_test.shape[3])"
      ],
      "metadata": {
        "id": "Xc4t-lAASqSf"
      },
      "execution_count": 6,
      "outputs": []
    },
    {
      "cell_type": "code",
      "source": [
        "hidden_units = 128\n",
        "model_mlp = Sequential([\n",
        "    Dense(hidden_units, activation='relu'),\n",
        "    Dense(1, activation='sigmoid')  # Una sola salida para clasificación binaria\n",
        "])\n",
        "\n",
        "model_mlp.compile(loss='binary_crossentropy',\n",
        "              optimizer=optimizers.Adam(learning_rate=1e-2),\n",
        "              metrics=['accuracy'])\n",
        "\n",
        "#traint the parameters\n",
        "history = model_mlp.fit(X_train_flattened, y_train,\n",
        "                    epochs=10,\n",
        "                    batch_size=batch_size)\n",
        "\n",
        "#evalute the accuracy\n",
        "train_acc=model_mlp.evaluate(X_train_flattened, y_train, batch_size=batch_size)[1]\n",
        "test_acc=model_mlp.evaluate(X_test_flattened, y_test, batch_size=batch_size)[1]\n",
        "print(f'Training accuracy: {train_acc:.2f}')\n",
        "print(f'Test accuracy: {test_acc:.2f}')"
      ],
      "metadata": {
        "colab": {
          "base_uri": "https://localhost:8080/"
        },
        "id": "-AjDLNz7SJvr",
        "outputId": "6266e9c9-ea79-404d-89cb-5a4ec8481816"
      },
      "execution_count": 7,
      "outputs": [
        {
          "output_type": "stream",
          "name": "stdout",
          "text": [
            "Epoch 1/10\n",
            "\u001b[1m296/296\u001b[0m \u001b[32m━━━━━━━━━━━━━━━━━━━━\u001b[0m\u001b[37m\u001b[0m \u001b[1m4s\u001b[0m 7ms/step - accuracy: 0.5622 - loss: 9442.9736\n",
            "Epoch 2/10\n",
            "\u001b[1m296/296\u001b[0m \u001b[32m━━━━━━━━━━━━━━━━━━━━\u001b[0m\u001b[37m\u001b[0m \u001b[1m3s\u001b[0m 5ms/step - accuracy: 0.6911 - loss: 0.6172\n",
            "Epoch 3/10\n",
            "\u001b[1m296/296\u001b[0m \u001b[32m━━━━━━━━━━━━━━━━━━━━\u001b[0m\u001b[37m\u001b[0m \u001b[1m3s\u001b[0m 5ms/step - accuracy: 0.6902 - loss: 0.6185\n",
            "Epoch 4/10\n",
            "\u001b[1m296/296\u001b[0m \u001b[32m━━━━━━━━━━━━━━━━━━━━\u001b[0m\u001b[37m\u001b[0m \u001b[1m2s\u001b[0m 4ms/step - accuracy: 0.6774 - loss: 0.6262\n",
            "Epoch 5/10\n",
            "\u001b[1m296/296\u001b[0m \u001b[32m━━━━━━━━━━━━━━━━━━━━\u001b[0m\u001b[37m\u001b[0m \u001b[1m3s\u001b[0m 4ms/step - accuracy: 0.6891 - loss: 0.6218\n",
            "Epoch 6/10\n",
            "\u001b[1m296/296\u001b[0m \u001b[32m━━━━━━━━━━━━━━━━━━━━\u001b[0m\u001b[37m\u001b[0m \u001b[1m2s\u001b[0m 5ms/step - accuracy: 0.5197 - loss: 0.6961\n",
            "Epoch 7/10\n",
            "\u001b[1m296/296\u001b[0m \u001b[32m━━━━━━━━━━━━━━━━━━━━\u001b[0m\u001b[37m\u001b[0m \u001b[1m2s\u001b[0m 4ms/step - accuracy: 0.5441 - loss: 0.6890\n",
            "Epoch 8/10\n",
            "\u001b[1m296/296\u001b[0m \u001b[32m━━━━━━━━━━━━━━━━━━━━\u001b[0m\u001b[37m\u001b[0m \u001b[1m1s\u001b[0m 4ms/step - accuracy: 0.5427 - loss: 0.6879\n",
            "Epoch 9/10\n",
            "\u001b[1m296/296\u001b[0m \u001b[32m━━━━━━━━━━━━━━━━━━━━\u001b[0m\u001b[37m\u001b[0m \u001b[1m3s\u001b[0m 5ms/step - accuracy: 0.5440 - loss: 0.6882\n",
            "Epoch 10/10\n",
            "\u001b[1m296/296\u001b[0m \u001b[32m━━━━━━━━━━━━━━━━━━━━\u001b[0m\u001b[37m\u001b[0m \u001b[1m2s\u001b[0m 5ms/step - accuracy: 0.5789 - loss: 0.6933\n",
            "\u001b[1m296/296\u001b[0m \u001b[32m━━━━━━━━━━━━━━━━━━━━\u001b[0m\u001b[37m\u001b[0m \u001b[1m2s\u001b[0m 5ms/step - accuracy: 0.5392 - loss: 0.6890\n",
            "\u001b[1m74/74\u001b[0m \u001b[32m━━━━━━━━━━━━━━━━━━━━\u001b[0m\u001b[37m\u001b[0m \u001b[1m0s\u001b[0m 3ms/step - accuracy: 0.5362 - loss: 0.6895\n",
            "Training accuracy: 0.54\n",
            "Test accuracy: 0.54\n"
          ]
        }
      ]
    },
    {
      "cell_type": "markdown",
      "source": [
        "## CNN (Red Neuronal Convolucional)"
      ],
      "metadata": {
        "id": "ijNTnfclR0C6"
      }
    },
    {
      "cell_type": "code",
      "source": [
        "model_cnn = Sequential([\n",
        "    Conv2D(32, (3, 3), activation='relu', input_shape=input_shape),\n",
        "    BatchNormalization(),\n",
        "    MaxPooling2D((2, 2)),\n",
        "    Conv2D(64, (3, 3), activation='relu'),\n",
        "    BatchNormalization(),\n",
        "    MaxPooling2D((2, 2)),\n",
        "    Conv2D(128, (3, 3), activation='relu'),\n",
        "    BatchNormalization(),\n",
        "    MaxPooling2D((2, 2)),\n",
        "    Conv2D(256, (3, 3), activation='relu'),\n",
        "    BatchNormalization(),\n",
        "    MaxPooling2D((2, 2)),\n",
        "    Flatten(),\n",
        "    Dense(128, activation='relu'),\n",
        "    BatchNormalization(),\n",
        "    Dense(1, activation='sigmoid')  # Una sola salida para clasificación binaria\n",
        "])\n"
      ],
      "metadata": {
        "colab": {
          "base_uri": "https://localhost:8080/"
        },
        "id": "jnYVb2VeJnYq",
        "outputId": "560603df-ea3d-48d3-a4d7-925195d7e0cb"
      },
      "execution_count": 8,
      "outputs": [
        {
          "output_type": "stream",
          "name": "stderr",
          "text": [
            "/usr/local/lib/python3.10/dist-packages/keras/src/layers/convolutional/base_conv.py:107: UserWarning: Do not pass an `input_shape`/`input_dim` argument to a layer. When using Sequential models, prefer using an `Input(shape)` object as the first layer in the model instead.\n",
            "  super().__init__(activity_regularizer=activity_regularizer, **kwargs)\n"
          ]
        }
      ]
    },
    {
      "cell_type": "code",
      "source": [
        "model_cnn.compile(loss=keras.losses.categorical_crossentropy,\n",
        "             optimizer = keras.optimizers.Adadelta(),\n",
        "             metrics=['accuracy'])"
      ],
      "metadata": {
        "id": "ugKXHkFIKI09"
      },
      "execution_count": 9,
      "outputs": []
    },
    {
      "cell_type": "code",
      "source": [
        "X_train.shape"
      ],
      "metadata": {
        "colab": {
          "base_uri": "https://localhost:8080/"
        },
        "id": "bTWAIWZrLTEe",
        "outputId": "649a827b-f073-45e8-d5f1-2951f32c1a04"
      },
      "execution_count": 10,
      "outputs": [
        {
          "output_type": "execute_result",
          "data": {
            "text/plain": [
              "(4733, 150, 150, 3)"
            ]
          },
          "metadata": {},
          "execution_count": 10
        }
      ]
    },
    {
      "cell_type": "code",
      "source": [
        "y_train.shape"
      ],
      "metadata": {
        "colab": {
          "base_uri": "https://localhost:8080/"
        },
        "id": "Isexr46LLVWC",
        "outputId": "05b8f42d-2353-4746-ab77-c7ebdc1fd8a2"
      },
      "execution_count": 11,
      "outputs": [
        {
          "output_type": "execute_result",
          "data": {
            "text/plain": [
              "(4733,)"
            ]
          },
          "metadata": {},
          "execution_count": 11
        }
      ]
    },
    {
      "cell_type": "code",
      "source": [
        "history = model_cnn.fit(\n",
        "X_train, y_train,\n",
        "batch_size=batch_size,\n",
        "epochs=10,\n",
        "verbose = 1,\n",
        "validation_data=(X_test, y_test)\n",
        ")\n",
        "\n",
        "#evalute the accuracy\n",
        "train_acc=model_cnn.evaluate(X_train, y_train, batch_size=batch_size)[1]\n",
        "test_acc=model_cnn.evaluate(X_test, y_test, batch_size=batch_size)[1]\n",
        "print(f'Training accuracy: {train_acc:.2f}')\n",
        "print(f'Test accuracy: {test_acc:.2f}')\n"
      ],
      "metadata": {
        "colab": {
          "base_uri": "https://localhost:8080/"
        },
        "id": "D_ljY5svKNCo",
        "outputId": "c08bc0bd-ad61-432b-f9f4-3b722667855d"
      },
      "execution_count": 12,
      "outputs": [
        {
          "output_type": "stream",
          "name": "stdout",
          "text": [
            "Epoch 1/10\n"
          ]
        },
        {
          "output_type": "stream",
          "name": "stderr",
          "text": [
            "/usr/local/lib/python3.10/dist-packages/keras/src/losses/losses.py:27: SyntaxWarning: In loss categorical_crossentropy, expected y_pred.shape to be (batch_size, num_classes) with num_classes > 1. Received: y_pred.shape=(None, 1). Consider using 'binary_crossentropy' if you only have 2 classes.\n",
            "  return self.fn(y_true, y_pred, **self._fn_kwargs)\n"
          ]
        },
        {
          "output_type": "stream",
          "name": "stdout",
          "text": [
            "\u001b[1m296/296\u001b[0m \u001b[32m━━━━━━━━━━━━━━━━━━━━\u001b[0m\u001b[37m\u001b[0m \u001b[1m0s\u001b[0m 28ms/step - accuracy: 0.6445 - loss: 0.0000e+00"
          ]
        },
        {
          "output_type": "stream",
          "name": "stderr",
          "text": [
            "/usr/local/lib/python3.10/dist-packages/keras/src/losses/losses.py:27: SyntaxWarning: In loss categorical_crossentropy, expected y_pred.shape to be (batch_size, num_classes) with num_classes > 1. Received: y_pred.shape=(16, 1). Consider using 'binary_crossentropy' if you only have 2 classes.\n",
            "  return self.fn(y_true, y_pred, **self._fn_kwargs)\n"
          ]
        },
        {
          "output_type": "stream",
          "name": "stdout",
          "text": [
            "\b\b\b\b\b\b\b\b\b\b\b\b\b\b\b\b\b\b\b\b\b\b\b\b\b\b\b\b\b\b\b\b\b\b\b\b\b\b\b\b\b\b\b\b\b\b\b\b\b\b\b\b\b\b\b\b\b\b\b\b\b\b\b\b\b\b\b\b\b\b\b\b\b\b\b\b\b\b\b\r\u001b[1m296/296\u001b[0m \u001b[32m━━━━━━━━━━━━━━━━━━━━\u001b[0m\u001b[37m\u001b[0m \u001b[1m20s\u001b[0m 40ms/step - accuracy: 0.6446 - loss: 0.0000e+00 - val_accuracy: 0.7500 - val_loss: 0.0000e+00\n",
            "Epoch 2/10\n",
            "\u001b[1m296/296\u001b[0m \u001b[32m━━━━━━━━━━━━━━━━━━━━\u001b[0m\u001b[37m\u001b[0m \u001b[1m5s\u001b[0m 16ms/step - accuracy: 0.7236 - loss: 0.0000e+00 - val_accuracy: 0.7660 - val_loss: 0.0000e+00\n",
            "Epoch 3/10\n",
            "\u001b[1m296/296\u001b[0m \u001b[32m━━━━━━━━━━━━━━━━━━━━\u001b[0m\u001b[37m\u001b[0m \u001b[1m5s\u001b[0m 17ms/step - accuracy: 0.7466 - loss: 0.0000e+00 - val_accuracy: 0.7753 - val_loss: 0.0000e+00\n",
            "Epoch 4/10\n",
            "\u001b[1m296/296\u001b[0m \u001b[32m━━━━━━━━━━━━━━━━━━━━\u001b[0m\u001b[37m\u001b[0m \u001b[1m5s\u001b[0m 18ms/step - accuracy: 0.7595 - loss: 0.0000e+00 - val_accuracy: 0.7829 - val_loss: 0.0000e+00\n",
            "Epoch 5/10\n",
            "\u001b[1m296/296\u001b[0m \u001b[32m━━━━━━━━━━━━━━━━━━━━\u001b[0m\u001b[37m\u001b[0m \u001b[1m10s\u001b[0m 17ms/step - accuracy: 0.7690 - loss: 0.0000e+00 - val_accuracy: 0.7914 - val_loss: 0.0000e+00\n",
            "Epoch 6/10\n",
            "\u001b[1m296/296\u001b[0m \u001b[32m━━━━━━━━━━━━━━━━━━━━\u001b[0m\u001b[37m\u001b[0m \u001b[1m10s\u001b[0m 17ms/step - accuracy: 0.7777 - loss: 0.0000e+00 - val_accuracy: 0.7990 - val_loss: 0.0000e+00\n",
            "Epoch 7/10\n",
            "\u001b[1m296/296\u001b[0m \u001b[32m━━━━━━━━━━━━━━━━━━━━\u001b[0m\u001b[37m\u001b[0m \u001b[1m5s\u001b[0m 17ms/step - accuracy: 0.7879 - loss: 0.0000e+00 - val_accuracy: 0.8057 - val_loss: 0.0000e+00\n",
            "Epoch 8/10\n",
            "\u001b[1m296/296\u001b[0m \u001b[32m━━━━━━━━━━━━━━━━━━━━\u001b[0m\u001b[37m\u001b[0m \u001b[1m5s\u001b[0m 16ms/step - accuracy: 0.7951 - loss: 0.0000e+00 - val_accuracy: 0.8066 - val_loss: 0.0000e+00\n",
            "Epoch 9/10\n",
            "\u001b[1m296/296\u001b[0m \u001b[32m━━━━━━━━━━━━━━━━━━━━\u001b[0m\u001b[37m\u001b[0m \u001b[1m5s\u001b[0m 17ms/step - accuracy: 0.8021 - loss: 0.0000e+00 - val_accuracy: 0.8091 - val_loss: 0.0000e+00\n",
            "Epoch 10/10\n",
            "\u001b[1m296/296\u001b[0m \u001b[32m━━━━━━━━━━━━━━━━━━━━\u001b[0m\u001b[37m\u001b[0m \u001b[1m5s\u001b[0m 16ms/step - accuracy: 0.8046 - loss: 0.0000e+00 - val_accuracy: 0.8117 - val_loss: 0.0000e+00\n",
            "\u001b[1m296/296\u001b[0m \u001b[32m━━━━━━━━━━━━━━━━━━━━\u001b[0m\u001b[37m\u001b[0m \u001b[1m3s\u001b[0m 9ms/step - accuracy: 0.8055 - loss: 0.0000e+00\n",
            "\u001b[1m74/74\u001b[0m \u001b[32m━━━━━━━━━━━━━━━━━━━━\u001b[0m\u001b[37m\u001b[0m \u001b[1m0s\u001b[0m 5ms/step - accuracy: 0.8144 - loss: 0.0000e+00\n",
            "Training accuracy: 0.81\n",
            "Test accuracy: 0.81\n"
          ]
        }
      ]
    },
    {
      "cell_type": "markdown",
      "source": [
        "## CNN 2 (Segundo Modelo Red Neuronal Convolucional)"
      ],
      "metadata": {
        "id": "DiUoDScYXEY0"
      }
    },
    {
      "cell_type": "code",
      "source": [
        "# Red Neuronal Convolucional (CNN) con diferentes parámetros\n",
        "\n",
        "model_cnn2 = Sequential([\n",
        "    # Capa Convolucional 1: 16 filtros de 3x3, función de activación ReLU\n",
        "    Conv2D(16, (3, 3), activation='relu', input_shape=input_shape, padding='same'),  # padding='same' mantiene el tamaño de la imagen\n",
        "    # Normalización por lotes para estabilizar y acelerar el entrenamiento\n",
        "    BatchNormalization(),\n",
        "    # Capa de Max Pooling 1: Reduce la dimensionalidad espacial\n",
        "    MaxPooling2D((2, 2)),\n",
        "\n",
        "    # Capa Convolucional 2: 32 filtros de 3x3, función de activación ReLU\n",
        "    Conv2D(32, (3, 3), activation='relu', padding='same'),\n",
        "    # Normalización por lotes\n",
        "    BatchNormalization(),\n",
        "    # Capa de Max Pooling 2\n",
        "    MaxPooling2D((2, 2)),\n",
        "\n",
        "    # Capa Convolucional 3: 64 filtros de 3x3, función de activación ReLU\n",
        "    Conv2D(64, (3, 3), activation='relu', padding='same'),\n",
        "    # Normalización por lotes\n",
        "    BatchNormalization(),\n",
        "    # Capa de Max Pooling 3\n",
        "    MaxPooling2D((2, 2)),\n",
        "\n",
        "    # Aplanar la salida para la capa densa\n",
        "    Flatten(),\n",
        "\n",
        "    # Capa Densa 1: 64 unidades, función de activación ReLU\n",
        "    Dense(64, activation='relu'),\n",
        "    # Regularización Dropout para prevenir el sobreajuste (opcional, pero recomendado)\n",
        "    # layers.Dropout(0.5), # Ejemplo de dropout al 50%\n",
        "    # Normalización por lotes\n",
        "    BatchNormalization(),\n",
        "\n",
        "    # Capa de Salida: 1 unidad (clasificación binaria), función de activación sigmoide\n",
        "    Dense(1, activation='sigmoid')\n",
        "])\n",
        "\n",
        "\n",
        "# Compilar el modelo\n",
        "model_cnn2.compile(loss='binary_crossentropy',  # Usamos binary_crossentropy para clasificación binaria\n",
        "                  optimizer=Adam(learning_rate=1e-3), # Usamos Adam con una tasa de aprendizaje diferente al modelo anterior\n",
        "                  metrics=['accuracy'])\n",
        "\n",
        "# Entrenar el modelo\n",
        "history2 = model_cnn2.fit(X_train, y_train,\n",
        "                         epochs=20,  # Aumentamos el número de épocas\n",
        "                         batch_size=32, # Tamaño del lote 32\n",
        "                         validation_data=(X_test, y_test))\n",
        "\n",
        "# Evaluar el modelo\n",
        "train_acc2 = model_cnn2.evaluate(X_train, y_train, batch_size=32)[1]\n",
        "test_acc2 = model_cnn2.evaluate(X_test, y_test, batch_size=32)[1]\n",
        "print(f'Training accuracy (model_cnn2): {train_acc2:.2f}')\n",
        "print(f'Test accuracy (model_cnn2): {test_acc2:.2f}')"
      ],
      "metadata": {
        "id": "sDY0YwYwWhR6",
        "outputId": "4c0725a1-92a8-4cfb-bd06-52c1f495b0e3",
        "colab": {
          "base_uri": "https://localhost:8080/"
        }
      },
      "execution_count": 14,
      "outputs": [
        {
          "output_type": "stream",
          "name": "stdout",
          "text": [
            "Epoch 1/20\n",
            "\u001b[1m148/148\u001b[0m \u001b[32m━━━━━━━━━━━━━━━━━━━━\u001b[0m\u001b[37m\u001b[0m \u001b[1m15s\u001b[0m 62ms/step - accuracy: 0.8011 - loss: 0.4839 - val_accuracy: 0.7247 - val_loss: 0.5858\n",
            "Epoch 2/20\n",
            "\u001b[1m148/148\u001b[0m \u001b[32m━━━━━━━━━━━━━━━━━━━━\u001b[0m\u001b[37m\u001b[0m \u001b[1m11s\u001b[0m 19ms/step - accuracy: 0.9038 - loss: 0.2450 - val_accuracy: 0.8682 - val_loss: 0.3327\n",
            "Epoch 3/20\n",
            "\u001b[1m148/148\u001b[0m \u001b[32m━━━━━━━━━━━━━━━━━━━━\u001b[0m\u001b[37m\u001b[0m \u001b[1m3s\u001b[0m 18ms/step - accuracy: 0.9510 - loss: 0.1419 - val_accuracy: 0.8412 - val_loss: 0.3591\n",
            "Epoch 4/20\n",
            "\u001b[1m148/148\u001b[0m \u001b[32m━━━━━━━━━━━━━━━━━━━━\u001b[0m\u001b[37m\u001b[0m \u001b[1m5s\u001b[0m 18ms/step - accuracy: 0.9718 - loss: 0.0858 - val_accuracy: 0.8581 - val_loss: 0.3438\n",
            "Epoch 5/20\n",
            "\u001b[1m148/148\u001b[0m \u001b[32m━━━━━━━━━━━━━━━━━━━━\u001b[0m\u001b[37m\u001b[0m \u001b[1m5s\u001b[0m 18ms/step - accuracy: 0.9800 - loss: 0.0681 - val_accuracy: 0.8201 - val_loss: 0.5219\n",
            "Epoch 6/20\n",
            "\u001b[1m148/148\u001b[0m \u001b[32m━━━━━━━━━━━━━━━━━━━━\u001b[0m\u001b[37m\u001b[0m \u001b[1m5s\u001b[0m 17ms/step - accuracy: 0.9856 - loss: 0.0451 - val_accuracy: 0.9012 - val_loss: 0.2510\n",
            "Epoch 7/20\n",
            "\u001b[1m148/148\u001b[0m \u001b[32m━━━━━━━━━━━━━━━━━━━━\u001b[0m\u001b[37m\u001b[0m \u001b[1m5s\u001b[0m 19ms/step - accuracy: 0.9956 - loss: 0.0234 - val_accuracy: 0.8598 - val_loss: 0.4354\n",
            "Epoch 8/20\n",
            "\u001b[1m148/148\u001b[0m \u001b[32m━━━━━━━━━━━━━━━━━━━━\u001b[0m\u001b[37m\u001b[0m \u001b[1m3s\u001b[0m 18ms/step - accuracy: 0.9983 - loss: 0.0170 - val_accuracy: 0.8488 - val_loss: 0.4725\n",
            "Epoch 9/20\n",
            "\u001b[1m148/148\u001b[0m \u001b[32m━━━━━━━━━━━━━━━━━━━━\u001b[0m\u001b[37m\u001b[0m \u001b[1m3s\u001b[0m 18ms/step - accuracy: 0.9991 - loss: 0.0082 - val_accuracy: 0.9088 - val_loss: 0.3103\n",
            "Epoch 10/20\n",
            "\u001b[1m148/148\u001b[0m \u001b[32m━━━━━━━━━━━━━━━━━━━━\u001b[0m\u001b[37m\u001b[0m \u001b[1m5s\u001b[0m 18ms/step - accuracy: 0.9999 - loss: 0.0038 - val_accuracy: 0.8691 - val_loss: 0.4649\n",
            "Epoch 11/20\n",
            "\u001b[1m148/148\u001b[0m \u001b[32m━━━━━━━━━━━━━━━━━━━━\u001b[0m\u001b[37m\u001b[0m \u001b[1m5s\u001b[0m 17ms/step - accuracy: 1.0000 - loss: 0.0029 - val_accuracy: 0.9155 - val_loss: 0.2839\n",
            "Epoch 12/20\n",
            "\u001b[1m148/148\u001b[0m \u001b[32m━━━━━━━━━━━━━━━━━━━━\u001b[0m\u001b[37m\u001b[0m \u001b[1m3s\u001b[0m 17ms/step - accuracy: 1.0000 - loss: 9.7535e-04 - val_accuracy: 0.9206 - val_loss: 0.2801\n",
            "Epoch 13/20\n",
            "\u001b[1m148/148\u001b[0m \u001b[32m━━━━━━━━━━━━━━━━━━━━\u001b[0m\u001b[37m\u001b[0m \u001b[1m5s\u001b[0m 18ms/step - accuracy: 1.0000 - loss: 6.1182e-04 - val_accuracy: 0.9223 - val_loss: 0.2853\n",
            "Epoch 14/20\n",
            "\u001b[1m148/148\u001b[0m \u001b[32m━━━━━━━━━━━━━━━━━━━━\u001b[0m\u001b[37m\u001b[0m \u001b[1m5s\u001b[0m 18ms/step - accuracy: 1.0000 - loss: 4.8218e-04 - val_accuracy: 0.9206 - val_loss: 0.2887\n",
            "Epoch 15/20\n",
            "\u001b[1m148/148\u001b[0m \u001b[32m━━━━━━━━━━━━━━━━━━━━\u001b[0m\u001b[37m\u001b[0m \u001b[1m3s\u001b[0m 17ms/step - accuracy: 1.0000 - loss: 3.9862e-04 - val_accuracy: 0.9215 - val_loss: 0.2922\n",
            "Epoch 16/20\n",
            "\u001b[1m148/148\u001b[0m \u001b[32m━━━━━━━━━━━━━━━━━━━━\u001b[0m\u001b[37m\u001b[0m \u001b[1m3s\u001b[0m 18ms/step - accuracy: 1.0000 - loss: 3.3971e-04 - val_accuracy: 0.9223 - val_loss: 0.2961\n",
            "Epoch 17/20\n",
            "\u001b[1m148/148\u001b[0m \u001b[32m━━━━━━━━━━━━━━━━━━━━\u001b[0m\u001b[37m\u001b[0m \u001b[1m3s\u001b[0m 18ms/step - accuracy: 1.0000 - loss: 2.9177e-04 - val_accuracy: 0.9198 - val_loss: 0.2980\n",
            "Epoch 18/20\n",
            "\u001b[1m148/148\u001b[0m \u001b[32m━━━━━━━━━━━━━━━━━━━━\u001b[0m\u001b[37m\u001b[0m \u001b[1m3s\u001b[0m 18ms/step - accuracy: 1.0000 - loss: 2.5200e-04 - val_accuracy: 0.9198 - val_loss: 0.3008\n",
            "Epoch 19/20\n",
            "\u001b[1m148/148\u001b[0m \u001b[32m━━━━━━━━━━━━━━━━━━━━\u001b[0m\u001b[37m\u001b[0m \u001b[1m5s\u001b[0m 17ms/step - accuracy: 1.0000 - loss: 2.2047e-04 - val_accuracy: 0.9198 - val_loss: 0.3034\n",
            "Epoch 20/20\n",
            "\u001b[1m148/148\u001b[0m \u001b[32m━━━━━━━━━━━━━━━━━━━━\u001b[0m\u001b[37m\u001b[0m \u001b[1m3s\u001b[0m 17ms/step - accuracy: 1.0000 - loss: 1.9424e-04 - val_accuracy: 0.9215 - val_loss: 0.3070\n",
            "\u001b[1m148/148\u001b[0m \u001b[32m━━━━━━━━━━━━━━━━━━━━\u001b[0m\u001b[37m\u001b[0m \u001b[1m2s\u001b[0m 12ms/step - accuracy: 0.9997 - loss: 0.0012\n",
            "\u001b[1m37/37\u001b[0m \u001b[32m━━━━━━━━━━━━━━━━━━━━\u001b[0m\u001b[37m\u001b[0m \u001b[1m0s\u001b[0m 6ms/step - accuracy: 0.9119 - loss: 0.3423\n",
            "Training accuracy (model_cnn2): 1.00\n",
            "Test accuracy (model_cnn2): 0.92\n"
          ]
        }
      ]
    },
    {
      "cell_type": "markdown",
      "source": [
        "## 6. Comparación de Modelos\n",
        "\n",
        "A continuación, presentaremos los resultados de los 3 modelos aplicados en el laboratorio:\n",
        "\n",
        "\n",
        "\n",
        "*   MPL\n",
        "*   CNN\n",
        "*   CNN 2\n",
        "\n",
        "\n",
        "\n",
        "\n"
      ],
      "metadata": {
        "id": "NN-mqQBoJZgK"
      }
    },
    {
      "cell_type": "code",
      "source": [
        "from sklearn.metrics import confusion_matrix, classification_report\n",
        "import seaborn as sns\n",
        "import matplotlib.pyplot as plt\n",
        "\n",
        "# Predicciones para cada modelo\n",
        "y_pred_mlp = (model_mlp.predict(X_test_flattened) > 0.5).astype(\"int32\")\n",
        "y_pred_cnn = (model_cnn.predict(X_test) > 0.5).astype(\"int32\")\n",
        "y_pred_cnn2 = (model_cnn2.predict(X_test) > 0.5).astype(\"int32\")\n",
        "\n",
        "\n",
        "# Función para mostrar la matriz de confusión y el informe de clasificación\n",
        "def show_results(model_name, y_true, y_pred):\n",
        "    print(f\"Resultados para {model_name}:\")\n",
        "    cm = confusion_matrix(y_true, y_pred)\n",
        "    print(\"Matriz de Confusión:\")\n",
        "    print(cm)\n",
        "    plt.figure(figsize=(6, 4))\n",
        "    sns.heatmap(cm, annot=True, fmt=\"d\", cmap=\"Blues\")\n",
        "    plt.xlabel('Predicción')\n",
        "    plt.ylabel('Real')\n",
        "    plt.title(f'Matriz de Confusión - {model_name}')\n",
        "    plt.show()\n",
        "\n",
        "    cr = classification_report(y_true, y_pred)\n",
        "    print(\"Informe de Clasificación:\")\n",
        "    print(cr)\n",
        "\n",
        "\n",
        "# Mostrar resultados para cada modelo\n",
        "show_results(\"MLP\", y_test, y_pred_mlp)\n",
        "show_results(\"CNN\", y_test, y_pred_cnn)\n",
        "show_results(\"CNN2\", y_test, y_pred_cnn2)"
      ],
      "metadata": {
        "id": "X30gm-SOYb26",
        "outputId": "aad8a910-36a1-40ec-d23f-6142b9e8645e",
        "colab": {
          "base_uri": "https://localhost:8080/",
          "height": 1000
        }
      },
      "execution_count": 16,
      "outputs": [
        {
          "output_type": "stream",
          "name": "stdout",
          "text": [
            "\u001b[1m37/37\u001b[0m \u001b[32m━━━━━━━━━━━━━━━━━━━━\u001b[0m\u001b[37m\u001b[0m \u001b[1m0s\u001b[0m 5ms/step\n",
            "\u001b[1m37/37\u001b[0m \u001b[32m━━━━━━━━━━━━━━━━━━━━\u001b[0m\u001b[37m\u001b[0m \u001b[1m0s\u001b[0m 7ms/step\n",
            "\u001b[1m37/37\u001b[0m \u001b[32m━━━━━━━━━━━━━━━━━━━━\u001b[0m\u001b[37m\u001b[0m \u001b[1m0s\u001b[0m 6ms/step\n",
            "Resultados para MLP:\n",
            "Matriz de Confusión:\n",
            "[[639   1]\n",
            " [544   0]]\n"
          ]
        },
        {
          "output_type": "display_data",
          "data": {
            "text/plain": [
              "<Figure size 600x400 with 2 Axes>"
            ],
            "image/png": "[encoded data removed]"
          },
          "metadata": {}
        },
        {
          "output_type": "stream",
          "name": "stdout",
          "text": [
            "Informe de Clasificación:\n",
            "              precision    recall  f1-score   support\n",
            "\n",
            "         0.0       0.54      1.00      0.70       640\n",
            "         1.0       0.00      0.00      0.00       544\n",
            "\n",
            "    accuracy                           0.54      1184\n",
            "   macro avg       0.27      0.50      0.35      1184\n",
            "weighted avg       0.29      0.54      0.38      1184\n",
            "\n",
            "Resultados para CNN:\n",
            "Matriz de Confusión:\n",
            "[[510 130]\n",
            " [ 93 451]]\n"
          ]
        },
        {
          "output_type": "display_data",
          "data": {
            "text/plain": [
              "<Figure size 600x400 with 2 Axes>"
            ],
            "image/png": "[encoded data removed]"
          },
          "metadata": {}
        },
        {
          "output_type": "stream",
          "name": "stdout",
          "text": [
            "Informe de Clasificación:\n",
            "              precision    recall  f1-score   support\n",
            "\n",
            "         0.0       0.85      0.80      0.82       640\n",
            "         1.0       0.78      0.83      0.80       544\n",
            "\n",
            "    accuracy                           0.81      1184\n",
            "   macro avg       0.81      0.81      0.81      1184\n",
            "weighted avg       0.81      0.81      0.81      1184\n",
            "\n",
            "Resultados para CNN2:\n",
            "Matriz de Confusión:\n",
            "[[599  41]\n",
            " [ 52 492]]\n"
          ]
        },
        {
          "output_type": "display_data",
          "data": {
            "text/plain": [
              "<Figure size 600x400 with 2 Axes>"
            ],
            "image/png": "[encoded data removed]"
          },
          "metadata": {}
        },
        {
          "output_type": "stream",
          "name": "stdout",
          "text": [
            "Informe de Clasificación:\n",
            "              precision    recall  f1-score   support\n",
            "\n",
            "         0.0       0.92      0.94      0.93       640\n",
            "         1.0       0.92      0.90      0.91       544\n",
            "\n",
            "    accuracy                           0.92      1184\n",
            "   macro avg       0.92      0.92      0.92      1184\n",
            "weighted avg       0.92      0.92      0.92      1184\n",
            "\n"
          ]
        }
      ]
    },
    {
      "cell_type": "markdown",
      "source": [
        "## 7. Conclusiones"
      ],
      "metadata": {
        "id": "RZsI_IdPJb9e"
      }
    }
  ]
}